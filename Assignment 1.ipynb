{
 "cells": [
  {
   "cell_type": "code",
   "execution_count": 7,
   "id": "fdec39a7",
   "metadata": {},
   "outputs": [
    {
     "name": "stdout",
     "output_type": "stream",
     "text": [
      "h\n",
      "e\n",
      "l\n",
      "l\n",
      "o\n",
      " \n",
      "w\n",
      "o\n",
      "r\n",
      "l\n",
      "d\n",
      "!\n"
     ]
    }
   ],
   "source": [
    "for letter in \"hello world!\":\n",
    "    print(letter)\n",
    "    "
   ]
  },
  {
   "cell_type": "markdown",
   "id": "70493bb8",
   "metadata": {},
   "source": [
    "# Problem 1\n",
    "\n",
    "### Given two strings (string_a and string_b) let's check whether or not they are anagrams given the following criteria:\n",
    "\n",
    "> Two strings are only anagrams of each other if all conditions below are met:\n",
    "> * They must be exactly the same length\n",
    "> * They must use exactly the same characters (no more, no less).\n",
    "\n",
    "Example: cars and scar, heart and earth, etc."
   ]
  },
  {
   "cell_type": "code",
   "execution_count": 17,
   "id": "2ef304dd",
   "metadata": {},
   "outputs": [],
   "source": [
    "def is_anagram(string_a, string_b): \n",
    "    string_a = string_a.replace(\" \", \"\")\n",
    "    string_b = string_b.replace(\" \", \"\")\n",
    "    if len(string_a) != len(string_b):                  # covering the length case\n",
    "        return False                                    # simple edge case.\n",
    "    string_a = string_a.lower()\n",
    "    string_b = string_b.lower()\n",
    "    char_times_a = dict()                               # Let's use two dictionaries to count.\n",
    "    char_times_b = dict()                               # We are counting the number of occurrences per char\n",
    "    for i  in range(len(string_a)):                     # Because we know these are of equal length,\n",
    "        if string_a[i] not in char_times_a.keys():      # we can simply count how many times we see each char.      \n",
    "            char_times_a[string_a[i]] = 0\n",
    "        else:\n",
    "            char_times_a[string_a[i]] += 1\n",
    "        if string_b[i] not in char_times_b.keys():\n",
    "            char_times_b[string_b[i]] = 0               # It doesn't matter that these are accessing different chars\n",
    "        else:                                           # that i is accessing, as long as the final return statement is\n",
    "            char_times_b[string_b[i]] +=1               # equal.\n",
    "    return char_times_a == char_times_b"
   ]
  },
  {
   "cell_type": "code",
   "execution_count": 10,
   "id": "b67fa0e7",
   "metadata": {},
   "outputs": [
    {
     "data": {
      "text/plain": [
       "True"
      ]
     },
     "execution_count": 10,
     "metadata": {},
     "output_type": "execute_result"
    }
   ],
   "source": [
    "is_anagram(\"cars\", \"scar\")"
   ]
  },
  {
   "cell_type": "code",
   "execution_count": 11,
   "id": "d473c1c3",
   "metadata": {},
   "outputs": [
    {
     "data": {
      "text/plain": [
       "False"
      ]
     },
     "execution_count": 11,
     "metadata": {},
     "output_type": "execute_result"
    }
   ],
   "source": [
    "is_anagram(\"cars\", \"sccr\")"
   ]
  },
  {
   "cell_type": "code",
   "execution_count": 12,
   "id": "97323e10",
   "metadata": {},
   "outputs": [],
   "source": [
    "# O(n) is the worst case time complexity, also known as linear.  "
   ]
  },
  {
   "cell_type": "code",
   "execution_count": 13,
   "id": "78e30617",
   "metadata": {},
   "outputs": [],
   "source": [
    "# O(1) is the best case time complexity, also known as real time."
   ]
  },
  {
   "cell_type": "code",
   "execution_count": 18,
   "id": "98702559",
   "metadata": {},
   "outputs": [
    {
     "data": {
      "text/plain": [
       "True"
      ]
     },
     "execution_count": 18,
     "metadata": {},
     "output_type": "execute_result"
    }
   ],
   "source": [
    "is_anagram(\"I am lord Voldemort\", \"Tom Marvolo Riddle\")"
   ]
  },
  {
   "cell_type": "code",
   "execution_count": null,
   "id": "fa26d656",
   "metadata": {},
   "outputs": [],
   "source": []
  }
 ],
 "metadata": {
  "kernelspec": {
   "display_name": "Python 3 (ipykernel)",
   "language": "python",
   "name": "python3"
  },
  "language_info": {
   "codemirror_mode": {
    "name": "ipython",
    "version": 3
   },
   "file_extension": ".py",
   "mimetype": "text/x-python",
   "name": "python",
   "nbconvert_exporter": "python",
   "pygments_lexer": "ipython3",
   "version": "3.8.10"
  }
 },
 "nbformat": 4,
 "nbformat_minor": 5
}
