{
 "cells": [
  {
   "cell_type": "code",
   "execution_count": 1,
   "id": "22125a4e",
   "metadata": {},
   "outputs": [],
   "source": [
    "class Stack:\n",
    "    def __init__(self):\n",
    "        self.items = []\n",
    "    \n",
    "    def is_empty(self):\n",
    "        return self.items == []\n",
    "    \n",
    "    def push(self, item):\n",
    "        self.items.append(item)\n",
    "        \n",
    "    def pop(self):\n",
    "        return self.items.pop()\n",
    "    \n",
    "    def peek(self):\n",
    "        return self.items[len(self.items)-1]\n",
    "    \n",
    "    def size(self):\n",
    "        return len(self.items)"
   ]
  },
  {
   "cell_type": "code",
   "execution_count": 9,
   "id": "81994089",
   "metadata": {},
   "outputs": [],
   "source": [
    "# function reverse_str(string): \n",
    "#   return string if the length is 1\n",
    "#   create stack using string\n",
    "#   create new string by popping stack\n",
    "#   return new string\n",
    "\n",
    "def reverse_str(s):\n",
    "    if len(s) == 1:\n",
    "        return s\n",
    "    inp_string = Stack();\n",
    "    new_string = \"\"\n",
    "    for i in range(len(s)):\n",
    "        inp_string.push(s[i])\n",
    "    for i in range(inp_string.size()):\n",
    "        new_string += inp_string.pop()\n",
    "    return new_string"
   ]
  },
  {
   "cell_type": "code",
   "execution_count": 18,
   "id": "a9b80337",
   "metadata": {},
   "outputs": [
    {
     "data": {
      "text/plain": [
       "'tset a si sihT'"
      ]
     },
     "execution_count": 18,
     "metadata": {},
     "output_type": "execute_result"
    }
   ],
   "source": [
    "reverse_str(\"This is a test\")"
   ]
  },
  {
   "cell_type": "code",
   "execution_count": 16,
   "id": "8679ecb9",
   "metadata": {},
   "outputs": [],
   "source": [
    "def reverse_string(mystring):\n",
    "    stack = Stack()\n",
    "    new_string = \"\"\n",
    "    for letter in mystring:\n",
    "        stack.push(letter)\n",
    "    while not stack.is_empty():\n",
    "        new_string += stack.pop()\n",
    "    return new_string"
   ]
  },
  {
   "cell_type": "code",
   "execution_count": 19,
   "id": "b288ed25",
   "metadata": {},
   "outputs": [
    {
     "data": {
      "text/plain": [
       "'tset a si sihT'"
      ]
     },
     "execution_count": 19,
     "metadata": {},
     "output_type": "execute_result"
    }
   ],
   "source": [
    "reverse_string(\"This is a test\")"
   ]
  },
  {
   "cell_type": "code",
   "execution_count": 20,
   "id": "a3f16522",
   "metadata": {},
   "outputs": [],
   "source": [
    "class Queue:\n",
    "    def __init__(self):\n",
    "        self.items = []\n",
    "        \n",
    "    def is_empty(self):\n",
    "        return self.items == []\n",
    "    \n",
    "    def enqueue(self, item):\n",
    "        self.items.insert(0, item)\n",
    "        \n",
    "    def dequeue(self):\n",
    "        return self.items.pop()\n",
    "    \n",
    "    def size(self):\n",
    "        return len(self.items)"
   ]
  },
  {
   "cell_type": "code",
   "execution_count": 24,
   "id": "4f288a21",
   "metadata": {},
   "outputs": [],
   "source": [
    "# 26 customers came in 1 second apart, single chars a to z\n",
    "# Takes between 1 and 2 seconds to service a customer\n",
    "# 7 teller stations\n",
    "# All tellers are occupied at the start\n",
    "# Random number from 1 to 2 simulates seconds\n",
    "\n",
    "from string import ascii_lowercase\n",
    "from random import randint, choice\n",
    "from time import sleep\n",
    "\n",
    "def register_visitors(visitor_queue):\n",
    "    for char in ascii_lowercase:\n",
    "        visitor_queue.enqueue(char)\n",
    "\n",
    "def service_customers(visitor_queue):\n",
    "    bank_tellers = [\"A\", \"B\", \"C\", \"D\", \"E\", \"F\", \"G\"]\n",
    "    while not visitor_queue.is_empty():\n",
    "        visitor = visitor_queue.dequeue()\n",
    "        print (\"Thank you for waiting %s, station %s is ready for you.\"\n",
    "              % (visitor, choice(bank_tellers)))\n",
    "        sleep(randint(1, 2))\n",
    "    print(\"Empty visitor queue.\")\n",
    "    \n",
    "def main():\n",
    "    visitor_queue = Queue()\n",
    "    register_visitors(visitor_queue)\n",
    "    service_customers(visitor_queue)"
   ]
  },
  {
   "cell_type": "code",
   "execution_count": 25,
   "id": "7d6f44ca",
   "metadata": {},
   "outputs": [
    {
     "name": "stdout",
     "output_type": "stream",
     "text": [
      "Thank you for waiting a, station B is ready for you.\n",
      "Thank you for waiting b, station C is ready for you.\n",
      "Thank you for waiting c, station F is ready for you.\n",
      "Thank you for waiting d, station A is ready for you.\n",
      "Thank you for waiting e, station F is ready for you.\n",
      "Thank you for waiting f, station B is ready for you.\n",
      "Thank you for waiting g, station B is ready for you.\n",
      "Thank you for waiting h, station D is ready for you.\n",
      "Thank you for waiting i, station G is ready for you.\n",
      "Thank you for waiting j, station F is ready for you.\n",
      "Thank you for waiting k, station C is ready for you.\n",
      "Thank you for waiting l, station B is ready for you.\n",
      "Thank you for waiting m, station B is ready for you.\n",
      "Thank you for waiting n, station B is ready for you.\n",
      "Thank you for waiting o, station E is ready for you.\n",
      "Thank you for waiting p, station E is ready for you.\n",
      "Thank you for waiting q, station A is ready for you.\n",
      "Thank you for waiting r, station G is ready for you.\n",
      "Thank you for waiting s, station E is ready for you.\n",
      "Thank you for waiting t, station B is ready for you.\n",
      "Thank you for waiting u, station G is ready for you.\n",
      "Thank you for waiting v, station E is ready for you.\n",
      "Thank you for waiting w, station D is ready for you.\n",
      "Thank you for waiting x, station A is ready for you.\n",
      "Thank you for waiting y, station E is ready for you.\n",
      "Thank you for waiting z, station D is ready for you.\n",
      "Empty visitor queue.\n"
     ]
    }
   ],
   "source": [
    "main()"
   ]
  },
  {
   "cell_type": "code",
   "execution_count": null,
   "id": "ac79fc3c",
   "metadata": {},
   "outputs": [],
   "source": []
  }
 ],
 "metadata": {
  "kernelspec": {
   "display_name": "Python 3 (ipykernel)",
   "language": "python",
   "name": "python3"
  },
  "language_info": {
   "codemirror_mode": {
    "name": "ipython",
    "version": 3
   },
   "file_extension": ".py",
   "mimetype": "text/x-python",
   "name": "python",
   "nbconvert_exporter": "python",
   "pygments_lexer": "ipython3",
   "version": "3.8.10"
  }
 },
 "nbformat": 4,
 "nbformat_minor": 5
}
