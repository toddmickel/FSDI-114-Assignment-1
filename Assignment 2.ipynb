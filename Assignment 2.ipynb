{
 "cells": [
  {
   "cell_type": "markdown",
   "id": "0f807c60",
   "metadata": {},
   "source": [
    "# Solve the following coding challenges:\n",
    "\n",
    "## 1. Given a string, write a function that uses recursion to reverse it.\n",
    "\n",
    "## 2. Given a list of integers, write a function that will return a list, in which for each index the element will be the product of all the integers except for the element at that index.\n",
    "* For example, an input of [1, 2, 3, 4] would return [24, 12, 8, 6] by performing [2x3x4, 1x3x4, 1x2x4, 1x2x3].\n",
    "* You cannot use division in your answer! Meaning you can't simply multiply all the numbers and then divide by each element for each index!"
   ]
  },
  {
   "cell_type": "code",
   "execution_count": 3,
   "id": "e3e54f6b",
   "metadata": {},
   "outputs": [],
   "source": [
    "# Problem 1:\n",
    "#\n",
    "# function(string):\n",
    "#    if length of string is 1:\n",
    "#         return string\n",
    "#    else:\n",
    "#         take the last character and add it to the result of this function calling itself\n",
    "\n",
    "def reverse(mystring):\n",
    "    if len(mystring) == 1:\n",
    "        return mystring\n",
    "    last_char = mystring[len(mystring)-1]\n",
    "#    mystring = \"\".join([mystring[i] for i in range(len(mystring)-1)])    # This solution uses list comprehension\n",
    "    \n",
    "    return last_char + reverse(mystring[:-1])  # This solution uses slices -- just pass mystring if using list comprehension"
   ]
  },
  {
   "cell_type": "code",
   "execution_count": 5,
   "id": "17fdc0d9",
   "metadata": {},
   "outputs": [
    {
     "name": "stdout",
     "output_type": "stream",
     "text": [
      "tromedloV drol ma I\n"
     ]
    }
   ],
   "source": [
    "print(reverse(\"I am lord Voldemort\"))"
   ]
  },
  {
   "cell_type": "code",
   "execution_count": 30,
   "id": "5c1291ef",
   "metadata": {},
   "outputs": [],
   "source": [
    "# Problem 2:\n",
    "#\n",
    "# function(list):\n",
    "#    length = length of list\n",
    "#    if length == 0\n",
    "#        return list\n",
    "#    create empty list called result\n",
    "#    iterate from 0 to length:\n",
    "#       temporary result variable set to 1\n",
    "#       iterate from 0 to length\n",
    "#          if index from i is not the same as index from j:\n",
    "#              multiply list[j] by temporary result\n",
    "#       append the temporary result to the result list\n",
    "#    return the result list\n",
    "\n",
    "def list_product(my_list):\n",
    "    length = len(my_list)\n",
    "    if  length == 0:\n",
    "        return my_list\n",
    "    result = []\n",
    "    for i in range(length):\n",
    "        temp_res = 1\n",
    "        for j in range(length):\n",
    "            if i != j:\n",
    "                temp_res = temp_res * my_list[j]\n",
    "        result.append(temp_res) \n",
    "    return result"
   ]
  },
  {
   "cell_type": "code",
   "execution_count": 31,
   "id": "d0b18ccc",
   "metadata": {},
   "outputs": [
    {
     "data": {
      "text/plain": [
       "[24, 12, 8, 6]"
      ]
     },
     "execution_count": 31,
     "metadata": {},
     "output_type": "execute_result"
    }
   ],
   "source": [
    "list_product([1, 2, 3, 4])"
   ]
  },
  {
   "cell_type": "code",
   "execution_count": 32,
   "id": "dd24cb63",
   "metadata": {},
   "outputs": [
    {
     "data": {
      "text/plain": [
       "[343068, 5859276, 494132276, 3279639]"
      ]
     },
     "execution_count": 32,
     "metadata": {},
     "output_type": "execute_result"
    }
   ],
   "source": [
    "list_product([4321, 253, 3, 452])"
   ]
  },
  {
   "cell_type": "code",
   "execution_count": 33,
   "id": "7e255555",
   "metadata": {},
   "outputs": [
    {
     "data": {
      "text/plain": [
       "[315, 189, 135, 105]"
      ]
     },
     "execution_count": 33,
     "metadata": {},
     "output_type": "execute_result"
    }
   ],
   "source": [
    "list_product([3,5,7,9])"
   ]
  },
  {
   "cell_type": "code",
   "execution_count": 34,
   "id": "29f62375",
   "metadata": {},
   "outputs": [
    {
     "data": {
      "text/plain": [
       "[]"
      ]
     },
     "execution_count": 34,
     "metadata": {},
     "output_type": "execute_result"
    }
   ],
   "source": [
    "list_product([])"
   ]
  },
  {
   "cell_type": "code",
   "execution_count": null,
   "id": "7ebdf44b",
   "metadata": {},
   "outputs": [],
   "source": []
  }
 ],
 "metadata": {
  "kernelspec": {
   "display_name": "Python 3 (ipykernel)",
   "language": "python",
   "name": "python3"
  },
  "language_info": {
   "codemirror_mode": {
    "name": "ipython",
    "version": 3
   },
   "file_extension": ".py",
   "mimetype": "text/x-python",
   "name": "python",
   "nbconvert_exporter": "python",
   "pygments_lexer": "ipython3",
   "version": "3.8.10"
  }
 },
 "nbformat": 4,
 "nbformat_minor": 5
}
