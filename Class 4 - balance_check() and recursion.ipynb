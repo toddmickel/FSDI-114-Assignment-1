{
 "cells": [
  {
   "cell_type": "markdown",
   "id": "27e3460c",
   "metadata": {},
   "source": [
    "# Balanced parentheses check\n",
    "\n",
    "* Given a string of opening and closing parentheses, check whether it's balanced.\n",
    "* Can be () [] and {}\n",
    "* No characters or spaces other than parentheses\n",
    "* Must be closed in the reverse order opened\n"
   ]
  },
  {
   "cell_type": "code",
   "execution_count": 4,
   "id": "ca6be4da",
   "metadata": {},
   "outputs": [],
   "source": [
    "class Stack:\n",
    "    def __init__(self):\n",
    "        self.items = []\n",
    "    \n",
    "    def is_empty(self):\n",
    "        return self.items == []\n",
    "    \n",
    "    def push(self, item):\n",
    "        self.items.append(item)\n",
    "        \n",
    "    def pop(self):\n",
    "        return self.items.pop()\n",
    "    \n",
    "    def peek(self):\n",
    "        return self.items[len(self.items)-1]\n",
    "    \n",
    "    def size(self):\n",
    "        return len(self.items)\n",
    "    \n",
    "def balance_check(s):\n",
    "    if len(s)%2 != 0:\n",
    "        return False\n",
    "    opening = set(\"([{\")\n",
    "    matches = set([(\"(\", \")\"), (\"[\", \"]\"), (\"{\", \"}\")])\n",
    "    stack = Stack()\n",
    "    for paren in s:\n",
    "        if paren in opening:\n",
    "            stack.push(paren)\n",
    "        else:\n",
    "            if stack.is_empty():\n",
    "                return False\n",
    "            last_open = stack.pop()\n",
    "            if (last_open, paren) not in matches:\n",
    "                return False\n",
    "    return stack.is_empty()"
   ]
  },
  {
   "cell_type": "code",
   "execution_count": 5,
   "id": "a2cbb490",
   "metadata": {},
   "outputs": [
    {
     "data": {
      "text/plain": [
       "True"
      ]
     },
     "execution_count": 5,
     "metadata": {},
     "output_type": "execute_result"
    }
   ],
   "source": [
    "balance_check(\"([{}])\")"
   ]
  },
  {
   "cell_type": "code",
   "execution_count": 6,
   "id": "a63cf9de",
   "metadata": {},
   "outputs": [
    {
     "data": {
      "text/plain": [
       "False"
      ]
     },
     "execution_count": 6,
     "metadata": {},
     "output_type": "execute_result"
    }
   ],
   "source": [
    "balance_check(\"({(}))\")"
   ]
  },
  {
   "cell_type": "code",
   "execution_count": 7,
   "id": "d036d474",
   "metadata": {},
   "outputs": [
    {
     "data": {
      "text/plain": [
       "True"
      ]
     },
     "execution_count": 7,
     "metadata": {},
     "output_type": "execute_result"
    }
   ],
   "source": [
    "balance_check(\"()({}[])\")"
   ]
  },
  {
   "cell_type": "code",
   "execution_count": 25,
   "id": "fe3b2462",
   "metadata": {},
   "outputs": [],
   "source": [
    "# Factorial function\n",
    "\n",
    "def factorial(n):\n",
    "    if n==0:\n",
    "        return 1\n",
    "    return n*factorial(n-1)"
   ]
  },
  {
   "cell_type": "code",
   "execution_count": 26,
   "id": "0e88aeaa",
   "metadata": {},
   "outputs": [
    {
     "data": {
      "text/plain": [
       "2"
      ]
     },
     "execution_count": 26,
     "metadata": {},
     "output_type": "execute_result"
    }
   ],
   "source": [
    "factorial(2)"
   ]
  },
  {
   "cell_type": "code",
   "execution_count": 27,
   "id": "3194d879",
   "metadata": {},
   "outputs": [
    {
     "data": {
      "text/plain": [
       "6"
      ]
     },
     "execution_count": 27,
     "metadata": {},
     "output_type": "execute_result"
    }
   ],
   "source": [
    "factorial(3)"
   ]
  },
  {
   "cell_type": "code",
   "execution_count": 28,
   "id": "60d6ecfa",
   "metadata": {},
   "outputs": [
    {
     "data": {
      "text/plain": [
       "24"
      ]
     },
     "execution_count": 28,
     "metadata": {},
     "output_type": "execute_result"
    }
   ],
   "source": [
    "factorial(4)"
   ]
  },
  {
   "cell_type": "code",
   "execution_count": 29,
   "id": "7452ec2e",
   "metadata": {},
   "outputs": [
    {
     "data": {
      "text/plain": [
       "3628800"
      ]
     },
     "execution_count": 29,
     "metadata": {},
     "output_type": "execute_result"
    }
   ],
   "source": [
    "factorial(10)"
   ]
  },
  {
   "cell_type": "code",
   "execution_count": 30,
   "id": "4688d3f2",
   "metadata": {},
   "outputs": [],
   "source": [
    "def fib(n):\n",
    "    if n < 2:\n",
    "        return n\n",
    "    return fib(n-1) + fib(n-2)"
   ]
  },
  {
   "cell_type": "code",
   "execution_count": 31,
   "id": "1aeabb12",
   "metadata": {},
   "outputs": [
    {
     "data": {
      "text/plain": [
       "1"
      ]
     },
     "execution_count": 31,
     "metadata": {},
     "output_type": "execute_result"
    }
   ],
   "source": [
    "fib(2)"
   ]
  },
  {
   "cell_type": "code",
   "execution_count": 32,
   "id": "0261b33d",
   "metadata": {},
   "outputs": [
    {
     "data": {
      "text/plain": [
       "1"
      ]
     },
     "execution_count": 32,
     "metadata": {},
     "output_type": "execute_result"
    }
   ],
   "source": [
    "fib(1)"
   ]
  },
  {
   "cell_type": "code",
   "execution_count": 35,
   "id": "1afac7c5",
   "metadata": {},
   "outputs": [
    {
     "data": {
      "text/plain": [
       "610"
      ]
     },
     "execution_count": 35,
     "metadata": {},
     "output_type": "execute_result"
    }
   ],
   "source": [
    "fib(15)"
   ]
  },
  {
   "cell_type": "code",
   "execution_count": 36,
   "id": "1929bc60",
   "metadata": {},
   "outputs": [
    {
     "data": {
      "text/plain": [
       "6765"
      ]
     },
     "execution_count": 36,
     "metadata": {},
     "output_type": "execute_result"
    }
   ],
   "source": [
    "fib(20)"
   ]
  },
  {
   "cell_type": "code",
   "execution_count": 37,
   "id": "58d17883",
   "metadata": {},
   "outputs": [
    {
     "data": {
      "text/plain": [
       "832040"
      ]
     },
     "execution_count": 37,
     "metadata": {},
     "output_type": "execute_result"
    }
   ],
   "source": [
    "fib(30)"
   ]
  },
  {
   "cell_type": "code",
   "execution_count": 38,
   "id": "49ffd2ff",
   "metadata": {},
   "outputs": [
    {
     "data": {
      "text/plain": [
       "102334155"
      ]
     },
     "execution_count": 38,
     "metadata": {},
     "output_type": "execute_result"
    }
   ],
   "source": [
    "fib(40)"
   ]
  },
  {
   "cell_type": "code",
   "execution_count": 41,
   "id": "3d37350c",
   "metadata": {},
   "outputs": [],
   "source": [
    "from functools import lru_cache\n",
    "\n",
    "@lru_cache()\n",
    "def fib_cache(n):\n",
    "    if n < 2:\n",
    "        return n\n",
    "    return fib(n-1) + fib(n-2)"
   ]
  },
  {
   "cell_type": "code",
   "execution_count": 42,
   "id": "65b2878d",
   "metadata": {},
   "outputs": [
    {
     "data": {
      "text/plain": [
       "102334155"
      ]
     },
     "execution_count": 42,
     "metadata": {},
     "output_type": "execute_result"
    }
   ],
   "source": [
    "fib_cache(40)"
   ]
  },
  {
   "cell_type": "code",
   "execution_count": 43,
   "id": "2d9dbfac",
   "metadata": {},
   "outputs": [
    {
     "data": {
      "text/plain": [
       "354224848179261915075"
      ]
     },
     "execution_count": 43,
     "metadata": {},
     "output_type": "execute_result"
    }
   ],
   "source": [
    "fib_cache(100)"
   ]
  },
  {
   "cell_type": "code",
   "execution_count": 44,
   "id": "34659eed",
   "metadata": {},
   "outputs": [
    {
     "data": {
      "text/plain": [
       "43466557686937456435688527675040625802564660517371780402481729089536555417949051890403879840079255169295922593080322634775209689623239873322471161642996440906533187938298969649928516003704476137795166849228875"
      ]
     },
     "execution_count": 44,
     "metadata": {},
     "output_type": "execute_result"
    }
   ],
   "source": [
    "fib_cache(1000)"
   ]
  },
  {
   "cell_type": "code",
   "execution_count": null,
   "id": "9d36cbcb",
   "metadata": {},
   "outputs": [],
   "source": []
  }
 ],
 "metadata": {
  "kernelspec": {
   "display_name": "Python 3 (ipykernel)",
   "language": "python",
   "name": "python3"
  },
  "language_info": {
   "codemirror_mode": {
    "name": "ipython",
    "version": 3
   },
   "file_extension": ".py",
   "mimetype": "text/x-python",
   "name": "python",
   "nbconvert_exporter": "python",
   "pygments_lexer": "ipython3",
   "version": "3.8.10"
  }
 },
 "nbformat": 4,
 "nbformat_minor": 5
}
